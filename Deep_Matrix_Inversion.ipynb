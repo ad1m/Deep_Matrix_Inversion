{
 "cells": [
  {
   "cell_type": "markdown",
   "metadata": {},
   "source": [
    "<center><h1><font color=\"orange\">Neural Networks for Matrix Inversion</font></h1></center>\n",
    "<p>Teaching a neural network to learn matrix inversion</p>"
   ]
  },
  {
   "cell_type": "code",
   "execution_count": 24,
   "metadata": {
    "collapsed": false
   },
   "outputs": [
    {
     "name": "stderr",
     "output_type": "stream",
     "text": [
      "Using TensorFlow backend.\n"
     ]
    }
   ],
   "source": [
    "#Imports \n",
    "import numpy as np\n",
    "from scipy import random, linalg\n",
    "from numpy.linalg import inv\n",
    "import keras"
   ]
  },
  {
   "cell_type": "code",
   "execution_count": 21,
   "metadata": {
    "collapsed": true
   },
   "outputs": [],
   "source": [
    "#Generate random N x N semi-positive definite matrices with their inverses\n",
    "def generate_semipositive_definite_matrix(N,size): \n",
    "    matrices = []\n",
    "    inverses = []\n",
    "    for i in range(N):\n",
    "        A = random.rand(size,size)\n",
    "        B = np.dot(A,A.transpose())\n",
    "        B_inverse = inv(B)\n",
    "        matrices.append(B.flatten())\n",
    "        inverses.append(B_inverse.flatten())\n",
    "    return np.array(matrices), np.array(inverses)"
   ]
  },
  {
   "cell_type": "code",
   "execution_count": 70,
   "metadata": {
    "collapsed": false
   },
   "outputs": [],
   "source": [
    "N = 20000000 \n",
    "size = 2\n",
    "matrices, inverses = generate_semipositive_definite_matrix(N,size)"
   ]
  },
  {
   "cell_type": "code",
   "execution_count": 41,
   "metadata": {
    "collapsed": false
   },
   "outputs": [
    {
     "name": "stdout",
     "output_type": "stream",
     "text": [
      "Epoch 1/50\n",
      "20000/20000 [==============================] - 3s - loss: 646978612203392365232128.0000 - acc: 0.4985     \n",
      "Epoch 2/50\n",
      "20000/20000 [==============================] - 3s - loss: 646978612203392365232128.0000 - acc: 0.4985     \n",
      "Epoch 3/50\n",
      "20000/20000 [==============================] - 3s - loss: 646978612203391828361216.0000 - acc: 0.4985     \n",
      "Epoch 4/50\n",
      "20000/20000 [==============================] - 3s - loss: 646978612203392096796672.0000 - acc: 0.4985     \n",
      "Epoch 5/50\n",
      "20000/20000 [==============================] - 3s - loss: 646978612203391962578944.0000 - acc: 0.4985     \n",
      "Epoch 6/50\n",
      "20000/20000 [==============================] - 3s - loss: 646978612203391962578944.0000 - acc: 0.4985     \n",
      "Epoch 7/50\n",
      "20000/20000 [==============================] - 3s - loss: 646978612203391828361216.0000 - acc: 0.4985     \n",
      "Epoch 8/50\n",
      "20000/20000 [==============================] - 3s - loss: 646978612203392365232128.0000 - acc: 0.4985     \n",
      "Epoch 9/50\n",
      "20000/20000 [==============================] - 2s - loss: 646978612203392096796672.0000 - acc: 0.4985     \n",
      "Epoch 10/50\n",
      "20000/20000 [==============================] - 3s - loss: 646978612203391828361216.0000 - acc: 0.4985     \n",
      "Epoch 11/50\n",
      "20000/20000 [==============================] - 3s - loss: 646978612203391694143488.0000 - acc: 0.4985     \n",
      "Epoch 12/50\n",
      "20000/20000 [==============================] - 3s - loss: 646978612203391291490304.0000 - acc: 0.4985     \n",
      "Epoch 13/50\n",
      "20000/20000 [==============================] - 3s - loss: 646978612203391828361216.0000 - acc: 0.4985     \n",
      "Epoch 14/50\n",
      "20000/20000 [==============================] - 3s - loss: 646978612203392096796672.0000 - acc: 0.4985     \n",
      "Epoch 15/50\n",
      "20000/20000 [==============================] - 3s - loss: 646978612203392231014400.0000 - acc: 0.4985     \n",
      "Epoch 16/50\n",
      "20000/20000 [==============================] - 3s - loss: 646978612203391962578944.0000 - acc: 0.4985     \n",
      "Epoch 17/50\n",
      "20000/20000 [==============================] - 3s - loss: 646978612203391694143488.0000 - acc: 0.4985     \n",
      "Epoch 18/50\n",
      "20000/20000 [==============================] - 3s - loss: 646978612203391828361216.0000 - acc: 0.4985     \n",
      "Epoch 19/50\n",
      "20000/20000 [==============================] - 2s - loss: 646978612203391962578944.0000 - acc: 0.4985     \n",
      "Epoch 20/50\n",
      "20000/20000 [==============================] - 2s - loss: 646978612203392231014400.0000 - acc: 0.4985     \n",
      "Epoch 21/50\n",
      "20000/20000 [==============================] - 3s - loss: 646978612203392096796672.0000 - acc: 0.4985     \n",
      "Epoch 22/50\n",
      "20000/20000 [==============================] - 2s - loss: 646978612203391962578944.0000 - acc: 0.4985     \n",
      "Epoch 23/50\n",
      "20000/20000 [==============================] - 2s - loss: 646978612203392231014400.0000 - acc: 0.4985     \n",
      "Epoch 24/50\n",
      "20000/20000 [==============================] - 2s - loss: 646978612203391828361216.0000 - acc: 0.4985     \n",
      "Epoch 25/50\n",
      "20000/20000 [==============================] - 2s - loss: 646978612203392365232128.0000 - acc: 0.4985     \n",
      "Epoch 26/50\n",
      "20000/20000 [==============================] - 3s - loss: 646978612203391828361216.0000 - acc: 0.4985     \n",
      "Epoch 27/50\n",
      "20000/20000 [==============================] - 3s - loss: 646978612203391828361216.0000 - acc: 0.4985     \n",
      "Epoch 28/50\n",
      "20000/20000 [==============================] - 3s - loss: 646978612203391694143488.0000 - acc: 0.4985     \n",
      "Epoch 29/50\n",
      "20000/20000 [==============================] - 3s - loss: 646978612203391828361216.0000 - acc: 0.4985     \n",
      "Epoch 30/50\n",
      "20000/20000 [==============================] - 3s - loss: 646978612203392231014400.0000 - acc: 0.4985     \n",
      "Epoch 31/50\n",
      "20000/20000 [==============================] - 3s - loss: 646978612203392365232128.0000 - acc: 0.4985     \n",
      "Epoch 32/50\n",
      "20000/20000 [==============================] - 3s - loss: 646978612203392231014400.0000 - acc: 0.4985     \n",
      "Epoch 33/50\n",
      "20000/20000 [==============================] - 3s - loss: 646978612203391828361216.0000 - acc: 0.4985     \n",
      "Epoch 34/50\n",
      "20000/20000 [==============================] - 2s - loss: 646978612203391828361216.0000 - acc: 0.4985     \n",
      "Epoch 35/50\n",
      "20000/20000 [==============================] - 2s - loss: 646978612203391694143488.0000 - acc: 0.4985     \n",
      "Epoch 36/50\n",
      "20000/20000 [==============================] - 2s - loss: 646978612203392096796672.0000 - acc: 0.4985     \n",
      "Epoch 37/50\n",
      "20000/20000 [==============================] - 3s - loss: 646978612203391962578944.0000 - acc: 0.4985     \n",
      "Epoch 38/50\n",
      "20000/20000 [==============================] - 3s - loss: 646978612203391694143488.0000 - acc: 0.4985     \n",
      "Epoch 39/50\n",
      "20000/20000 [==============================] - 3s - loss: 646978612203392365232128.0000 - acc: 0.4985     \n",
      "Epoch 40/50\n",
      "20000/20000 [==============================] - 3s - loss: 646978612203391962578944.0000 - acc: 0.4985     \n",
      "Epoch 41/50\n",
      "20000/20000 [==============================] - 3s - loss: 646978612203391828361216.0000 - acc: 0.4985     \n",
      "Epoch 42/50\n",
      "20000/20000 [==============================] - 3s - loss: 646978612203391828361216.0000 - acc: 0.4985     \n",
      "Epoch 43/50\n",
      "20000/20000 [==============================] - 2s - loss: 646978612203391828361216.0000 - acc: 0.4985     \n",
      "Epoch 44/50\n",
      "20000/20000 [==============================] - 2s - loss: 646978612203391828361216.0000 - acc: 0.4985     \n",
      "Epoch 45/50\n",
      "20000/20000 [==============================] - 3s - loss: 646978612203391828361216.0000 - acc: 0.4985     \n",
      "Epoch 46/50\n",
      "20000/20000 [==============================] - 3s - loss: 646978612203391828361216.0000 - acc: 0.4985     \n",
      "Epoch 47/50\n",
      "20000/20000 [==============================] - 3s - loss: 646978612203391962578944.0000 - acc: 0.4985     \n",
      "Epoch 48/50\n",
      "20000/20000 [==============================] - 3s - loss: 646978612203392365232128.0000 - acc: 0.4985     \n",
      "Epoch 49/50\n",
      "20000/20000 [==============================] - 3s - loss: 646978612203391828361216.0000 - acc: 0.4985     \n",
      "Epoch 50/50\n",
      "20000/20000 [==============================] - 3s - loss: 646978612203391694143488.0000 - acc: 0.4985     \n"
     ]
    },
    {
     "data": {
      "text/plain": [
       "<keras.callbacks.History at 0x117a3ef60>"
      ]
     },
     "execution_count": 41,
     "metadata": {},
     "output_type": "execute_result"
    }
   ],
   "source": [
    "#from keras.layers import Input, Dense\n",
    "#from keras.models import Model\n",
    "\n",
    "# This returns a tensor\n",
    "#inputs = Input(shape=(size**2,))\n",
    "\n",
    "# a layer instance is callable on a tensor, and returns a tensor\n",
    "#x = Dense(64, activation='sigmoid')(inputs)\n",
    "#x = Dense(64, activation='sigmoid')(x)\n",
    "#x = Dense(32, activation='sigmoid')(x)\n",
    "#x = Dense(32, activation='sigmoid')(x)\n",
    "#x = Dense(16, activation='sigmoid')(x)\n",
    "#x = Dense(16, activation='sigmoid')(x)\n",
    "#predictions = Dense(size**2)(x)\n",
    "\n",
    "# This creates a model that includes\n",
    "# the Input layer and three Dense layers\n",
    "#model = Model(inputs=inputs, outputs=predictions)\n",
    "#model.compile(optimizer='adam',\n",
    "#              loss='mean_squared_error',\n",
    "#              metrics=['accuracy'])\n",
    "#model.fit(matrices, inverses,epochs=50,batch_size=32)  # starts training"
   ]
  },
  {
   "cell_type": "code",
   "execution_count": 85,
   "metadata": {
    "collapsed": false
   },
   "outputs": [],
   "source": [
    "#print(model.predict(matrices[0:6]))\n",
    "#inverses[1]"
   ]
  },
  {
   "cell_type": "code",
   "execution_count": 79,
   "metadata": {
    "collapsed": false
   },
   "outputs": [],
   "source": [
    "from keras.wrappers.scikit_learn import KerasRegressor\n",
    "from sklearn.model_selection import cross_val_score\n",
    "from sklearn.model_selection import KFold\n",
    "from keras.models import Sequential\n",
    "from sklearn.metrics import accuracy_score"
   ]
  },
  {
   "cell_type": "code",
   "execution_count": 72,
   "metadata": {
    "collapsed": true
   },
   "outputs": [],
   "source": [
    "def baseline_model():\n",
    "    # create model\n",
    "    model = Sequential()\n",
    "    model.add(Dense(4, input_dim=4, kernel_initializer='normal', activation='relu'))\n",
    "    model.add(Dense(4, kernel_initializer='normal'))\n",
    "    # Compile model\n",
    "    model.compile(loss='mean_squared_error', optimizer='adam')\n",
    "    return model"
   ]
  },
  {
   "cell_type": "code",
   "execution_count": 73,
   "metadata": {
    "collapsed": true
   },
   "outputs": [],
   "source": [
    "estimator = KerasRegressor(build_fn=baseline_model, nb_epoch=1, batch_size=128, verbose=0)"
   ]
  },
  {
   "cell_type": "code",
   "execution_count": 75,
   "metadata": {
    "collapsed": false
   },
   "outputs": [
    {
     "name": "stdout",
     "output_type": "stream",
     "text": [
      "Results: 25895236780322.43 (25813953516784.26) MSE\n"
     ]
    }
   ],
   "source": [
    "kfold = KFold(n_splits=2, random_state=42)\n",
    "results = cross_val_score(estimator, matrices, inverses, cv=kfold)\n",
    "print(\"Results: %.2f (%.2f) MSE\" % (results.mean(), results.std()))"
   ]
  },
  {
   "cell_type": "code",
   "execution_count": 86,
   "metadata": {
    "collapsed": false
   },
   "outputs": [],
   "source": [
    "estimator.fit(matrices, inverses)\n",
    "prediction = estimator.predict(matrices[0:5])\n",
    "#print(inverses[0:5])\n",
    "#print(prediction)\n",
    "#accuracy_score(inverses, prediction)"
   ]
  },
  {
   "cell_type": "code",
   "execution_count": null,
   "metadata": {
    "collapsed": true
   },
   "outputs": [],
   "source": []
  }
 ],
 "metadata": {
  "anaconda-cloud": {},
  "kernelspec": {
   "display_name": "Python [conda env:cse6240hw1]",
   "language": "python",
   "name": "conda-env-cse6240hw1-py"
  },
  "language_info": {
   "codemirror_mode": {
    "name": "ipython",
    "version": 3
   },
   "file_extension": ".py",
   "mimetype": "text/x-python",
   "name": "python",
   "nbconvert_exporter": "python",
   "pygments_lexer": "ipython3",
   "version": "3.5.2"
  }
 },
 "nbformat": 4,
 "nbformat_minor": 1
}
